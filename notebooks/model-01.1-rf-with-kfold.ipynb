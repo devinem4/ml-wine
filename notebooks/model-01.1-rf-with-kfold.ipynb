{
 "cells": [
  {
   "cell_type": "code",
   "execution_count": 14,
   "metadata": {},
   "outputs": [
    {
     "data": {
      "text/plain": [
       "PosixPath('/home/mddevine/projects/ml-wine/data')"
      ]
     },
     "execution_count": 14,
     "metadata": {},
     "output_type": "execute_result"
    }
   ],
   "source": [
    "from pathlib import Path\n",
    "import pandas as pd\n",
    "import numpy as np\n",
    "from sklearn.ensemble import RandomForestClassifier\n",
    "\n",
    "import seaborn as sns\n",
    "import matplotlib.pyplot as plt\n",
    "\n",
    "np.random.seed(1003)\n",
    "\n",
    "datadir = Path('.').resolve().parents[0] / \"data\"\n",
    "datadir"
   ]
  },
  {
   "cell_type": "markdown",
   "metadata": {},
   "source": [
    "## read in the data"
   ]
  },
  {
   "cell_type": "code",
   "execution_count": 15,
   "metadata": {},
   "outputs": [
    {
     "name": "stdout",
     "output_type": "stream",
     "text": [
      "178 observations.\n"
     ]
    },
    {
     "data": {
      "text/html": [
       "<div>\n",
       "<style scoped>\n",
       "    .dataframe tbody tr th:only-of-type {\n",
       "        vertical-align: middle;\n",
       "    }\n",
       "\n",
       "    .dataframe tbody tr th {\n",
       "        vertical-align: top;\n",
       "    }\n",
       "\n",
       "    .dataframe thead th {\n",
       "        text-align: right;\n",
       "    }\n",
       "</style>\n",
       "<table border=\"1\" class=\"dataframe\">\n",
       "  <thead>\n",
       "    <tr style=\"text-align: right;\">\n",
       "      <th></th>\n",
       "      <th>class</th>\n",
       "      <th>alcohol</th>\n",
       "      <th>malic_acid</th>\n",
       "      <th>ash</th>\n",
       "      <th>alcalinity_of_ash</th>\n",
       "      <th>magnesium</th>\n",
       "      <th>total_phenols</th>\n",
       "      <th>flavanoids</th>\n",
       "      <th>nonflavanoid_phenols</th>\n",
       "      <th>proanthocyanins</th>\n",
       "      <th>color_intensity</th>\n",
       "      <th>hue</th>\n",
       "      <th>od280_over_od315</th>\n",
       "      <th>proline</th>\n",
       "    </tr>\n",
       "  </thead>\n",
       "  <tbody>\n",
       "    <tr>\n",
       "      <th>0</th>\n",
       "      <td>1</td>\n",
       "      <td>14.23</td>\n",
       "      <td>1.71</td>\n",
       "      <td>2.43</td>\n",
       "      <td>15.6</td>\n",
       "      <td>127</td>\n",
       "      <td>2.80</td>\n",
       "      <td>3.06</td>\n",
       "      <td>0.28</td>\n",
       "      <td>2.29</td>\n",
       "      <td>5.64</td>\n",
       "      <td>1.04</td>\n",
       "      <td>3.92</td>\n",
       "      <td>1065</td>\n",
       "    </tr>\n",
       "    <tr>\n",
       "      <th>1</th>\n",
       "      <td>1</td>\n",
       "      <td>13.20</td>\n",
       "      <td>1.78</td>\n",
       "      <td>2.14</td>\n",
       "      <td>11.2</td>\n",
       "      <td>100</td>\n",
       "      <td>2.65</td>\n",
       "      <td>2.76</td>\n",
       "      <td>0.26</td>\n",
       "      <td>1.28</td>\n",
       "      <td>4.38</td>\n",
       "      <td>1.05</td>\n",
       "      <td>3.40</td>\n",
       "      <td>1050</td>\n",
       "    </tr>\n",
       "    <tr>\n",
       "      <th>2</th>\n",
       "      <td>1</td>\n",
       "      <td>13.16</td>\n",
       "      <td>2.36</td>\n",
       "      <td>2.67</td>\n",
       "      <td>18.6</td>\n",
       "      <td>101</td>\n",
       "      <td>2.80</td>\n",
       "      <td>3.24</td>\n",
       "      <td>0.30</td>\n",
       "      <td>2.81</td>\n",
       "      <td>5.68</td>\n",
       "      <td>1.03</td>\n",
       "      <td>3.17</td>\n",
       "      <td>1185</td>\n",
       "    </tr>\n",
       "    <tr>\n",
       "      <th>3</th>\n",
       "      <td>1</td>\n",
       "      <td>14.37</td>\n",
       "      <td>1.95</td>\n",
       "      <td>2.50</td>\n",
       "      <td>16.8</td>\n",
       "      <td>113</td>\n",
       "      <td>3.85</td>\n",
       "      <td>3.49</td>\n",
       "      <td>0.24</td>\n",
       "      <td>2.18</td>\n",
       "      <td>7.80</td>\n",
       "      <td>0.86</td>\n",
       "      <td>3.45</td>\n",
       "      <td>1480</td>\n",
       "    </tr>\n",
       "    <tr>\n",
       "      <th>4</th>\n",
       "      <td>1</td>\n",
       "      <td>13.24</td>\n",
       "      <td>2.59</td>\n",
       "      <td>2.87</td>\n",
       "      <td>21.0</td>\n",
       "      <td>118</td>\n",
       "      <td>2.80</td>\n",
       "      <td>2.69</td>\n",
       "      <td>0.39</td>\n",
       "      <td>1.82</td>\n",
       "      <td>4.32</td>\n",
       "      <td>1.04</td>\n",
       "      <td>2.93</td>\n",
       "      <td>735</td>\n",
       "    </tr>\n",
       "  </tbody>\n",
       "</table>\n",
       "</div>"
      ],
      "text/plain": [
       "   class  alcohol  malic_acid   ash  alcalinity_of_ash  magnesium  \\\n",
       "0      1    14.23        1.71  2.43               15.6        127   \n",
       "1      1    13.20        1.78  2.14               11.2        100   \n",
       "2      1    13.16        2.36  2.67               18.6        101   \n",
       "3      1    14.37        1.95  2.50               16.8        113   \n",
       "4      1    13.24        2.59  2.87               21.0        118   \n",
       "\n",
       "   total_phenols  flavanoids  nonflavanoid_phenols  proanthocyanins  \\\n",
       "0           2.80        3.06                  0.28             2.29   \n",
       "1           2.65        2.76                  0.26             1.28   \n",
       "2           2.80        3.24                  0.30             2.81   \n",
       "3           3.85        3.49                  0.24             2.18   \n",
       "4           2.80        2.69                  0.39             1.82   \n",
       "\n",
       "   color_intensity   hue  od280_over_od315  proline  \n",
       "0             5.64  1.04              3.92     1065  \n",
       "1             4.38  1.05              3.40     1050  \n",
       "2             5.68  1.03              3.17     1185  \n",
       "3             7.80  0.86              3.45     1480  \n",
       "4             4.32  1.04              2.93      735  "
      ]
     },
     "execution_count": 15,
     "metadata": {},
     "output_type": "execute_result"
    }
   ],
   "source": [
    "df = pd.read_csv(datadir / \"processed\" / \"wine_df_final.csv\")\n",
    "print(f\"{len(df)} observations.\")\n",
    "df.head()"
   ]
  },
  {
   "cell_type": "code",
   "execution_count": 16,
   "metadata": {},
   "outputs": [
    {
     "data": {
      "text/plain": [
       "Index(['alcohol', 'malic_acid', 'ash', 'alcalinity_of_ash', 'magnesium',\n",
       "       'total_phenols', 'flavanoids', 'nonflavanoid_phenols',\n",
       "       'proanthocyanins', 'color_intensity', 'hue', 'od280_over_od315',\n",
       "       'proline'],\n",
       "      dtype='object')"
      ]
     },
     "execution_count": 16,
     "metadata": {},
     "output_type": "execute_result"
    }
   ],
   "source": [
    "# features == all columns except the class (our target), and `is_train`\n",
    "features = df.columns[1:]\n",
    "features"
   ]
  },
  {
   "cell_type": "code",
   "execution_count": 17,
   "metadata": {},
   "outputs": [],
   "source": [
    "X, y = df[features], df['class']"
   ]
  },
  {
   "cell_type": "markdown",
   "metadata": {},
   "source": [
    "## train / test split"
   ]
  },
  {
   "cell_type": "code",
   "execution_count": 18,
   "metadata": {},
   "outputs": [],
   "source": [
    "from collections import namedtuple\n",
    "Experiment = namedtuple(\n",
    "    'Experiment',\n",
    "    ['k', 'train_index', 'test_index', 'clf', 'predictions', 'accuracy'])"
   ]
  },
  {
   "cell_type": "code",
   "execution_count": 20,
   "metadata": {},
   "outputs": [
    {
     "name": "stdout",
     "output_type": "stream",
     "text": [
      "k=0, 160, 18 --> acc=1.0\n",
      "k=1, 160, 18 --> acc=1.0\n",
      "k=2, 160, 18 --> acc=1.0\n",
      "k=3, 160, 18 --> acc=0.9444444444444444\n",
      "k=4, 160, 18 --> acc=1.0\n",
      "k=5, 160, 18 --> acc=1.0\n",
      "k=6, 160, 18 --> acc=0.9444444444444444\n",
      "k=7, 160, 18 --> acc=0.9444444444444444\n",
      "k=8, 161, 17 --> acc=1.0\n",
      "k=9, 161, 17 --> acc=1.0\n",
      "average accuracy across runs = 0.98\n"
     ]
    }
   ],
   "source": [
    "from sklearn.model_selection import KFold\n",
    "from sklearn.metrics import accuracy_score\n",
    "\n",
    "kf = KFold(n_splits=10, shuffle=True, random_state=9999)\n",
    "all_experiments = {}\n",
    "all_accuracies = []\n",
    "for k, (train_index, test_index) in enumerate(kf.split(X, y)):\n",
    "    X_train, X_test = X.loc[train_index], X.loc[test_index]\n",
    "    y_train, y_test = y.loc[train_index], y.loc[test_index]\n",
    "    clf = RandomForestClassifier(n_jobs=2, random_state=1003)\n",
    "    clf.fit(X_train, y_train)\n",
    "    predictions = clf.predict(X_test)\n",
    "    acc = accuracy_score(y_test, predictions)\n",
    "    all_accuracies.append(acc)\n",
    "    all_experiments[k] = Experiment(k, train_index, test_index, clf, predictions, acc)\n",
    "    print(f\"{k=}, {len(train_index)}, {len(test_index)} --> {acc=}\")\n",
    "    \n",
    "print(f\"average accuracy across runs = {round(sum(all_accuracies) / len(all_accuracies), 2)}\")"
   ]
  },
  {
   "cell_type": "markdown",
   "metadata": {},
   "source": [
    "## review the results"
   ]
  },
  {
   "cell_type": "code",
   "execution_count": 23,
   "metadata": {},
   "outputs": [
    {
     "name": "stdout",
     "output_type": "stream",
     "text": [
      "k=3:actual=2 pred=3, index=61\n",
      "k=6:actual=2 pred=3, index=83\n",
      "k=7:actual=2 pred=1, index=73\n"
     ]
    }
   ],
   "source": [
    "for k, exp in all_experiments.items():\n",
    "    for i, (actual, pred) in enumerate(zip(y.loc[exp.test_index], exp.predictions)):\n",
    "        if actual != pred:\n",
    "            print(f\"{k=}:{actual=} {pred=}, index={exp.test_index[i]}\")"
   ]
  },
  {
   "cell_type": "code",
   "execution_count": 24,
   "metadata": {},
   "outputs": [
    {
     "name": "stdout",
     "output_type": "stream",
     "text": [
      "confusion matrix for experiment 6\n"
     ]
    },
    {
     "data": {
      "text/html": [
       "<div>\n",
       "<style scoped>\n",
       "    .dataframe tbody tr th:only-of-type {\n",
       "        vertical-align: middle;\n",
       "    }\n",
       "\n",
       "    .dataframe tbody tr th {\n",
       "        vertical-align: top;\n",
       "    }\n",
       "\n",
       "    .dataframe thead th {\n",
       "        text-align: right;\n",
       "    }\n",
       "</style>\n",
       "<table border=\"1\" class=\"dataframe\">\n",
       "  <thead>\n",
       "    <tr style=\"text-align: right;\">\n",
       "      <th>Predicted Wine</th>\n",
       "      <th>1</th>\n",
       "      <th>2</th>\n",
       "      <th>3</th>\n",
       "    </tr>\n",
       "    <tr>\n",
       "      <th>Actual Wine</th>\n",
       "      <th></th>\n",
       "      <th></th>\n",
       "      <th></th>\n",
       "    </tr>\n",
       "  </thead>\n",
       "  <tbody>\n",
       "    <tr>\n",
       "      <th>1</th>\n",
       "      <td>4</td>\n",
       "      <td>0</td>\n",
       "      <td>0</td>\n",
       "    </tr>\n",
       "    <tr>\n",
       "      <th>2</th>\n",
       "      <td>0</td>\n",
       "      <td>6</td>\n",
       "      <td>1</td>\n",
       "    </tr>\n",
       "    <tr>\n",
       "      <th>3</th>\n",
       "      <td>0</td>\n",
       "      <td>0</td>\n",
       "      <td>7</td>\n",
       "    </tr>\n",
       "  </tbody>\n",
       "</table>\n",
       "</div>"
      ],
      "text/plain": [
       "Predicted Wine  1  2  3\n",
       "Actual Wine            \n",
       "1               4  0  0\n",
       "2               0  6  1\n",
       "3               0  0  7"
      ]
     },
     "execution_count": 24,
     "metadata": {},
     "output_type": "execute_result"
    }
   ],
   "source": [
    "k = 6 #experiment we want to investigate further\n",
    "exp = all_experiments[k]\n",
    "\n",
    "print(f\"confusion matrix for experiment {k}\")\n",
    "pd.crosstab(y.loc[exp.test_index], exp.predictions, rownames=['Actual Wine'], colnames=['Predicted Wine'])"
   ]
  },
  {
   "cell_type": "markdown",
   "metadata": {},
   "source": [
    "## quick look at feature importance"
   ]
  },
  {
   "cell_type": "code",
   "execution_count": 25,
   "metadata": {},
   "outputs": [
    {
     "data": {
      "text/html": [
       "<div>\n",
       "<style scoped>\n",
       "    .dataframe tbody tr th:only-of-type {\n",
       "        vertical-align: middle;\n",
       "    }\n",
       "\n",
       "    .dataframe tbody tr th {\n",
       "        vertical-align: top;\n",
       "    }\n",
       "\n",
       "    .dataframe thead th {\n",
       "        text-align: right;\n",
       "    }\n",
       "</style>\n",
       "<table border=\"1\" class=\"dataframe\">\n",
       "  <thead>\n",
       "    <tr style=\"text-align: right;\">\n",
       "      <th></th>\n",
       "      <th>alcohol</th>\n",
       "      <th>malic_acid</th>\n",
       "      <th>ash</th>\n",
       "      <th>alcalinity_of_ash</th>\n",
       "      <th>magnesium</th>\n",
       "      <th>total_phenols</th>\n",
       "      <th>flavanoids</th>\n",
       "      <th>nonflavanoid_phenols</th>\n",
       "      <th>proanthocyanins</th>\n",
       "      <th>color_intensity</th>\n",
       "      <th>hue</th>\n",
       "      <th>od280_over_od315</th>\n",
       "      <th>proline</th>\n",
       "    </tr>\n",
       "  </thead>\n",
       "  <tbody>\n",
       "    <tr>\n",
       "      <th>0</th>\n",
       "      <td>0.120999</td>\n",
       "      <td>0.032635</td>\n",
       "      <td>0.015882</td>\n",
       "      <td>0.030951</td>\n",
       "      <td>0.031953</td>\n",
       "      <td>0.057529</td>\n",
       "      <td>0.119536</td>\n",
       "      <td>0.007221</td>\n",
       "      <td>0.014961</td>\n",
       "      <td>0.177142</td>\n",
       "      <td>0.081005</td>\n",
       "      <td>0.142059</td>\n",
       "      <td>0.168126</td>\n",
       "    </tr>\n",
       "    <tr>\n",
       "      <th>1</th>\n",
       "      <td>0.149183</td>\n",
       "      <td>0.022160</td>\n",
       "      <td>0.015384</td>\n",
       "      <td>0.027745</td>\n",
       "      <td>0.031838</td>\n",
       "      <td>0.062508</td>\n",
       "      <td>0.133138</td>\n",
       "      <td>0.010712</td>\n",
       "      <td>0.014528</td>\n",
       "      <td>0.148199</td>\n",
       "      <td>0.097741</td>\n",
       "      <td>0.126917</td>\n",
       "      <td>0.159947</td>\n",
       "    </tr>\n",
       "    <tr>\n",
       "      <th>2</th>\n",
       "      <td>0.127505</td>\n",
       "      <td>0.028281</td>\n",
       "      <td>0.019926</td>\n",
       "      <td>0.024444</td>\n",
       "      <td>0.017374</td>\n",
       "      <td>0.074479</td>\n",
       "      <td>0.132356</td>\n",
       "      <td>0.010636</td>\n",
       "      <td>0.014839</td>\n",
       "      <td>0.183913</td>\n",
       "      <td>0.093742</td>\n",
       "      <td>0.134464</td>\n",
       "      <td>0.138043</td>\n",
       "    </tr>\n",
       "    <tr>\n",
       "      <th>3</th>\n",
       "      <td>0.124784</td>\n",
       "      <td>0.027086</td>\n",
       "      <td>0.016275</td>\n",
       "      <td>0.030947</td>\n",
       "      <td>0.036167</td>\n",
       "      <td>0.048760</td>\n",
       "      <td>0.144913</td>\n",
       "      <td>0.012618</td>\n",
       "      <td>0.022366</td>\n",
       "      <td>0.151841</td>\n",
       "      <td>0.063570</td>\n",
       "      <td>0.157452</td>\n",
       "      <td>0.163221</td>\n",
       "    </tr>\n",
       "    <tr>\n",
       "      <th>4</th>\n",
       "      <td>0.136901</td>\n",
       "      <td>0.029394</td>\n",
       "      <td>0.009477</td>\n",
       "      <td>0.031143</td>\n",
       "      <td>0.025450</td>\n",
       "      <td>0.063666</td>\n",
       "      <td>0.155247</td>\n",
       "      <td>0.017190</td>\n",
       "      <td>0.018896</td>\n",
       "      <td>0.167185</td>\n",
       "      <td>0.071825</td>\n",
       "      <td>0.115440</td>\n",
       "      <td>0.158187</td>\n",
       "    </tr>\n",
       "  </tbody>\n",
       "</table>\n",
       "</div>"
      ],
      "text/plain": [
       "    alcohol  malic_acid       ash  alcalinity_of_ash  magnesium  \\\n",
       "0  0.120999    0.032635  0.015882           0.030951   0.031953   \n",
       "1  0.149183    0.022160  0.015384           0.027745   0.031838   \n",
       "2  0.127505    0.028281  0.019926           0.024444   0.017374   \n",
       "3  0.124784    0.027086  0.016275           0.030947   0.036167   \n",
       "4  0.136901    0.029394  0.009477           0.031143   0.025450   \n",
       "\n",
       "   total_phenols  flavanoids  nonflavanoid_phenols  proanthocyanins  \\\n",
       "0       0.057529    0.119536              0.007221         0.014961   \n",
       "1       0.062508    0.133138              0.010712         0.014528   \n",
       "2       0.074479    0.132356              0.010636         0.014839   \n",
       "3       0.048760    0.144913              0.012618         0.022366   \n",
       "4       0.063666    0.155247              0.017190         0.018896   \n",
       "\n",
       "   color_intensity       hue  od280_over_od315   proline  \n",
       "0         0.177142  0.081005          0.142059  0.168126  \n",
       "1         0.148199  0.097741          0.126917  0.159947  \n",
       "2         0.183913  0.093742          0.134464  0.138043  \n",
       "3         0.151841  0.063570          0.157452  0.163221  \n",
       "4         0.167185  0.071825          0.115440  0.158187  "
      ]
     },
     "execution_count": 25,
     "metadata": {},
     "output_type": "execute_result"
    }
   ],
   "source": [
    "data = []\n",
    "for k, exp in all_experiments.items():\n",
    "    data.append(exp.clf.feature_importances_)\n",
    "    \n",
    "feat_imp_df = pd.DataFrame(data, columns=features)\n",
    "feat_imp_df.head()"
   ]
  },
  {
   "cell_type": "code",
   "execution_count": 26,
   "metadata": {},
   "outputs": [
    {
     "data": {
      "text/plain": [
       "<matplotlib.axes._subplots.AxesSubplot at 0x7ad8f8c25a90>"
      ]
     },
     "execution_count": 26,
     "metadata": {},
     "output_type": "execute_result"
    },
    {
     "data": {
      "image/png": "[encoded data removed]",
      "text/plain": [
       "<Figure size 864x576 with 1 Axes>"
      ]
     },
     "metadata": {},
     "output_type": "display_data"
    }
   ],
   "source": [
    "fig, ax = plt.subplots()\n",
    "fig.set_size_inches(12, 8)\n",
    "chart = sns.boxplot(data=feat_imp_df)    \n",
    "#chart = sns.swarmplot(data=feat_imp_df, color=\".5\")\n",
    "chart.set_xticklabels(chart.get_xticklabels(), rotation=45)\n",
    "chart"
   ]
  },
  {
   "cell_type": "code",
   "execution_count": null,
   "metadata": {},
   "outputs": [],
   "source": []
  }
 ],
 "metadata": {
  "kernelspec": {
   "display_name": "Python 3",
   "language": "python",
   "name": "python3"
  },
  "language_info": {
   "codemirror_mode": {
    "name": "ipython",
    "version": 3
   },
   "file_extension": ".py",
   "mimetype": "text/x-python",
   "name": "python",
   "nbconvert_exporter": "python",
   "pygments_lexer": "ipython3",
   "version": "3.8.1"
  }
 },
 "nbformat": 4,
 "nbformat_minor": 4
}
